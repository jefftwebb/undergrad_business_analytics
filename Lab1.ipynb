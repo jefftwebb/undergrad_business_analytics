{
  "nbformat": 4,
  "nbformat_minor": 0,
  "metadata": {
    "colab": {
      "name": "Lab1.ipynb",
      "provenance": [],
      "collapsed_sections": [],
      "authorship_tag": "ABX9TyM4nxUSfiK7Cpk7dKkmtqn0",
      "include_colab_link": true
    },
    "kernelspec": {
      "name": "python3",
      "display_name": "Python 3"
    },
    "language_info": {
      "name": "python"
    }
  },
  "cells": [
    {
      "cell_type": "markdown",
      "metadata": {
        "id": "view-in-github",
        "colab_type": "text"
      },
      "source": [
        "<a href=\"https://colab.research.google.com/github/jefftwebb/undergrad_business_analytics/blob/main/Lab1.ipynb\" target=\"_parent\"><img src=\"https://colab.research.google.com/assets/colab-badge.svg\" alt=\"Open In Colab\"/></a>"
      ]
    },
    {
      "cell_type": "markdown",
      "metadata": {
        "id": "ViUolqYlmZEO"
      },
      "source": [
        "## Lab 1: Hello World"
      ]
    },
    {
      "cell_type": "markdown",
      "metadata": {
        "id": "vdwTwSwcmmS1"
      },
      "source": [
        "In this course, you will be learning to analyze data using the python open source programming language.  Our focus, however, will not be on programming per se, but on data analysis. You will learn just enough programming to do data analysis. While this will give you a solid introduction to python, other courses in your academic program will focus specifically on python programming.\n",
        "\n",
        "### Why use python for data analysis?\n",
        "\n",
        "There are many. However, for our purposes we will focus on one main reason: collaboration. Using a programming language like python to prepare and analyze data makes every step in the process perfectly transparent. For example, suppose I decide to remove rows with missing values (NAs) from a dataset during an analysis.  That filtering step will be documented in my code. This makes it easy for my collaborators to see exactly what I've done and, if necessary, to correct my work or improve it. Contrast this to how \n",
        "a spreadsheet program like Microsoft Excel is often used.  Changes to the data in a spreadhseet typically go unrecorded and are therefore not available for easy review. Using a programming language for data analysis is thus a huge step forward for analytics because it *supports effective collaboration.* This is important because two heads are almost always better than one!\n",
        "\n",
        "Note that other programming languages such as R, which is similar to Python, also work well for data analysis for the same reason.\n",
        "\n",
        "\n",
        "### What is a Google Collab notebook?\n",
        "\n",
        "A Collab notebook (such as this one) combines python code and text written in an extremely simple text processing language for document annotation called markdown. (If you double click the text sections in a Collab notebook you will see the raw markdown code on the left along with the compiled version on the right.) Data analysis occurs within the python code chunks, while the text preceeding or following those chunks contextualize and interpret the analytic results. Collab notebooks are simple to share and use because they do not require specialized software and run directly in your browser. \n",
        "\n",
        "Collab notebooks have a document type of .ipynb, which stands for \"ipython notebook.\" These notebooks are easily saved in your Google Drive (make sure that you have a Google account with Drive enabled) either in notebook format (.ipynb) or as PDF. In this course you will be handing in labs as PDF documents. To compile your notebook to PDF follow these steps: File >> Print >> select \"Save as PDF\" under Destination in the upper right of the dialogue box >> click Save.\n",
        "\n",
        "### Writing code in a notebook\n",
        "\n",
        "Here is an example of a code chunk.\n",
        "\n"
      ]
    },
    {
      "cell_type": "code",
      "metadata": {
        "id": "MoPdMxC5wm94"
      },
      "source": [
        "print(\"hello world\")"
      ],
      "execution_count": null,
      "outputs": []
    },
    {
      "cell_type": "markdown",
      "metadata": {
        "id": "VKlbsqvLwukZ"
      },
      "source": [
        "What is happening here? If you wave your cursor over the lefthand corner of the code chunk you will see an arrow.  Click that arrow to run the the code in the chunk. In this case the python function, `print()`, prints the words \"hello world\" included within the parentheses. By running the code in this way, readers can essentially participate in the analysis, going from chunk to chunk. Obviously, printing out \"hello world\" does not count as data analysis, but it should give you a sense of how a notebook can be used to support collaboration. For example, a reader could easily change the text in that line of code.  \n",
        "\n",
        "Here is a more substantive example."
      ]
    },
    {
      "cell_type": "code",
      "metadata": {
        "id": "_QAWOWZjxred"
      },
      "source": [
        "x = 5\n",
        "\n",
        "y = 7\n",
        "\n",
        "x + y"
      ],
      "execution_count": null,
      "outputs": []
    },
    {
      "cell_type": "markdown",
      "metadata": {
        "id": "X689O-pQxzCI"
      },
      "source": [
        "`x` and `y` are examples of python objects. I have assigned values to them, which then allows me to do calculations with them. Note that the values of objects persist from the chunks above to the chunks below.  "
      ]
    },
    {
      "cell_type": "code",
      "metadata": {
        "id": "Mqf_u-OYyVmD"
      },
      "source": [
        "x"
      ],
      "execution_count": null,
      "outputs": []
    },
    {
      "cell_type": "code",
      "metadata": {
        "id": "qa9Xi3UL3SAW"
      },
      "source": [
        "y"
      ],
      "execution_count": null,
      "outputs": []
    },
    {
      "cell_type": "markdown",
      "metadata": {
        "id": "_i4PHuDMyuSd"
      },
      "source": [
        "The simplest way to use python is as a calculator."
      ]
    },
    {
      "cell_type": "code",
      "metadata": {
        "id": "pLTeo38wy1Fs"
      },
      "source": [
        "5 * 7 # or, the same thing:"
      ],
      "execution_count": null,
      "outputs": []
    },
    {
      "cell_type": "code",
      "metadata": {
        "id": "7gvbLnk60Gp0"
      },
      "source": [
        "x * y"
      ],
      "execution_count": null,
      "outputs": []
    },
    {
      "cell_type": "markdown",
      "metadata": {
        "id": "AHmnr1AL0JcD"
      },
      "source": [
        "Using a hashtag in a chunk, `#`, is known as \"commenting out\" text that should not be evaluated.  Any text or code following the `#` Will not be evaluated by python. It is useful to add comments to code chunks, particularly when things start getting complicated, to provide interpretive guidance for readers, as well as for yourself, when you come back to an analysis after a break."
      ]
    },
    {
      "cell_type": "markdown",
      "metadata": {
        "id": "roce1S55Dw-n"
      },
      "source": [
        "### Functions\n",
        "\n",
        "Functions in python are extremely important.  Indeed, writing python code largely consists in using functions. A function is just a set of operations for accomplishing a task that have been bundled together for convenience. As we saw above, `print()` is a function, but, less obviously, so are `+` and `-`. Python includes many pre-defined functions but we can also create our own functions if needed.\n",
        "\n",
        "We will use many statistical functions while doing data analysis. For example, to calculate the average of a set of numbers--what we will call a sample--we would use the `mean()` function.  (Remember: an average is calculated by adding up all the numbers in a sample, then dividing by the size of the sample. The average of 1 and 2, for example, will be 3/2.) ) The mean turns out to be extremely useful for summarizing, in a single number, what is known as the \"central tendency\" of a sample.\n",
        "\n",
        "The syntax for using `mean()` is straightforward: simply include the numbers to be averaged within the parentheses. \n",
        "\n",
        "\n"
      ]
    },
    {
      "cell_type": "code",
      "metadata": {
        "colab": {
          "base_uri": "https://localhost:8080/",
          "height": 164
        },
        "id": "kS6jHGbKL6vF",
        "outputId": "7c5f8420-63d3-4105-cdf1-541e1135eb98"
      },
      "source": [
        "mean([5, 6, 7, 8, 9, 10])"
      ],
      "execution_count": 1,
      "outputs": [
        {
          "output_type": "error",
          "ename": "NameError",
          "evalue": "ignored",
          "traceback": [
            "\u001b[0;31m---------------------------------------------------------------------------\u001b[0m",
            "\u001b[0;31mNameError\u001b[0m                                 Traceback (most recent call last)",
            "\u001b[0;32m<ipython-input-1-d08630ce2e9a>\u001b[0m in \u001b[0;36m<module>\u001b[0;34m()\u001b[0m\n\u001b[0;32m----> 1\u001b[0;31m \u001b[0mmean\u001b[0m\u001b[0;34m(\u001b[0m\u001b[0;34m[\u001b[0m\u001b[0;36m5\u001b[0m\u001b[0;34m,\u001b[0m \u001b[0;36m6\u001b[0m\u001b[0;34m,\u001b[0m \u001b[0;36m7\u001b[0m\u001b[0;34m,\u001b[0m \u001b[0;36m8\u001b[0m\u001b[0;34m,\u001b[0m \u001b[0;36m9\u001b[0m\u001b[0;34m,\u001b[0m \u001b[0;36m10\u001b[0m\u001b[0;34m]\u001b[0m\u001b[0;34m)\u001b[0m\u001b[0;34m\u001b[0m\u001b[0;34m\u001b[0m\u001b[0m\n\u001b[0m",
            "\u001b[0;31mNameError\u001b[0m: name 'mean' is not defined"
          ]
        }
      ]
    },
    {
      "cell_type": "markdown",
      "metadata": {
        "id": "z2-yAMi6MR1Y"
      },
      "source": [
        "\n",
        "\n",
        "Whoops.  Something has gone wrong.\n",
        "\n",
        "There is a wrinkle here.  It is important to understand that python consists in various libraries that specialize certain kinds of operations.  In this course we will be using `numpy` (for working with numeric arrays) and `pandas` (for working with dataframes) among others.  To use a function, then, we will usually need to first import its library.  The `mean()` function is included in the `statistics` library.  Let's import the `statistics` library. "
      ]
    },
    {
      "cell_type": "code",
      "metadata": {
        "id": "wuQTRD6mMwY8"
      },
      "source": [
        "import statistics"
      ],
      "execution_count": 3,
      "outputs": []
    },
    {
      "cell_type": "markdown",
      "metadata": {
        "id": "KaOXXzceM0B5"
      },
      "source": [
        "When using a function we must identify both library and function. In this case the code will be: `statistics.mean()`. Let's try the above code again. Make sure that you have run the above code chunk that imports the `statistics` library."
      ]
    },
    {
      "cell_type": "code",
      "metadata": {
        "colab": {
          "base_uri": "https://localhost:8080/"
        },
        "id": "CVQI7AvjM-yt",
        "outputId": "9fc23b14-7d1a-48a6-c1dd-9277641c1d12"
      },
      "source": [
        "statistics.mean([5, 6, 7, 8, 9, 10])"
      ],
      "execution_count": 4,
      "outputs": [
        {
          "output_type": "execute_result",
          "data": {
            "text/plain": [
              "7.5"
            ]
          },
          "metadata": {
            "tags": []
          },
          "execution_count": 4
        }
      ]
    },
    {
      "cell_type": "markdown",
      "metadata": {
        "id": "C6i3H6Io0zI4"
      },
      "source": [
        "### Assignment\n",
        "\n",
        "Here are some tasks to give you practice using a Collab python notebook.  \n",
        "\n",
        "1. Write python to produce the text \"Submitted by: your name\" where \"your name\" has been replaced with your name.\n",
        "2. Write code to calculate the number of minutes in a day (24 hours).\n",
        "3. Using the values of x and y defined above divide x by y. (In python, division is performed with the `/` operator.)\n",
        "4. Create a new variable, z, defined as x divided by y, and show that z is the same as the value you calculated in the previous question.\n",
        "5. Compute the average of the following numbers using `statistics.mean()`:  1, 2, 3, 4, 5, 6.\n",
        "\n",
        "**Challenge**:  double-check the results you obtained for question 5 by writing your own code to calculate the mean.  \n",
        "\n",
        "For each question **include a comment within the code chunk that explains what you are doing**.\n",
        "\n",
        "Code chunks have been provided for you below. Make sure to run each chunk (click the arrow in the far left of the chunk) so that your code has been evaluated and the results are showing before you convert it to PDF.\n",
        "\n",
        "Save your notebook to your Google Drive (following the instructions above) and then convert it to PDF.  Submit the PDF version to Canvas for the lab assignment."
      ]
    },
    {
      "cell_type": "markdown",
      "metadata": {
        "id": "ZkL3So4HFyQs"
      },
      "source": [
        "Question 1:  Submitted by ..."
      ]
    },
    {
      "cell_type": "code",
      "metadata": {
        "id": "_6uAiU7CAjtP"
      },
      "source": [
        ""
      ],
      "execution_count": null,
      "outputs": []
    },
    {
      "cell_type": "markdown",
      "metadata": {
        "id": "jLBAbeZiI7Cv"
      },
      "source": [
        "Question 2: Calculate the number of minutes in a day"
      ]
    },
    {
      "cell_type": "code",
      "metadata": {
        "id": "EgK96F1LI6j4"
      },
      "source": [
        ""
      ],
      "execution_count": null,
      "outputs": []
    },
    {
      "cell_type": "markdown",
      "metadata": {
        "id": "UyhpobnGI9jQ"
      },
      "source": [
        "Question 3: divide x by y"
      ]
    },
    {
      "cell_type": "code",
      "metadata": {
        "id": "dPTMSqj2JAG4"
      },
      "source": [
        "x = 5\n",
        "y = 7\n",
        "\n",
        "# What is x divided by y?\n",
        "\n"
      ],
      "execution_count": null,
      "outputs": []
    },
    {
      "cell_type": "markdown",
      "metadata": {
        "id": "RI28oArLJA6I"
      },
      "source": [
        "Question 4: create z"
      ]
    },
    {
      "cell_type": "code",
      "metadata": {
        "id": "5T9mRg3uJBQZ"
      },
      "source": [
        "# Define z as x divided by y.\n",
        "\n",
        "# How do you know z has the same value as you calculated above in Q3?\n",
        "\n"
      ],
      "execution_count": null,
      "outputs": []
    },
    {
      "cell_type": "markdown",
      "metadata": {
        "id": "H8Y6T_x1JHNi"
      },
      "source": [
        "Question 5: Calculate a mean"
      ]
    },
    {
      "cell_type": "code",
      "metadata": {
        "id": "rVjW8VCHJCHA"
      },
      "source": [
        "import statistics # Import the python module that includes the mean() function\n",
        "\n",
        "values = [1, 2, 3, 4, 5, 6] # Define the series \n",
        "\n",
        "# Write code below to calculate the mean of values using the \n",
        "# library.function() syntax explained above.\n",
        "\n"
      ],
      "execution_count": null,
      "outputs": []
    },
    {
      "cell_type": "markdown",
      "metadata": {
        "id": "vBgrvlRiPQ7F"
      },
      "source": [
        "Challenge:  Calculate the mean of 1, 2, 3, 4, 5, 6 without using `statistics.mean()`"
      ]
    },
    {
      "cell_type": "code",
      "metadata": {
        "id": "NgxkQzRkPhYo"
      },
      "source": [
        "# Calculate the mean\n"
      ],
      "execution_count": null,
      "outputs": []
    }
  ]
}