{
  "nbformat": 4,
  "nbformat_minor": 0,
  "metadata": {
    "colab": {
      "name": "Lab1.ipynb",
      "provenance": [],
      "collapsed_sections": [],
      "authorship_tag": "ABX9TyOpQxJDlqhkUD0F04g6HKJw",
      "include_colab_link": true
    },
    "kernelspec": {
      "name": "python3",
      "display_name": "Python 3"
    },
    "language_info": {
      "name": "python"
    }
  },
  "cells": [
    {
      "cell_type": "markdown",
      "metadata": {
        "id": "view-in-github",
        "colab_type": "text"
      },
      "source": [
        "<a href=\"https://colab.research.google.com/github/jefftwebb/undergrad_business_analytics/blob/main/Lab1.ipynb\" target=\"_parent\"><img src=\"https://colab.research.google.com/assets/colab-badge.svg\" alt=\"Open In Colab\"/></a>"
      ]
    },
    {
      "cell_type": "markdown",
      "metadata": {
        "id": "WfDMIjTnmTfI"
      },
      "source": [
        "[![Open In Colab](https://colab.research.google.com/assets/colab-badge.svg)](https://colab.research.google.com/github/googlecolab/colabtools/blob/master/notebooks/colab-github-demo.ipynb)\n"
      ]
    },
    {
      "cell_type": "markdown",
      "metadata": {
        "id": "ViUolqYlmZEO"
      },
      "source": [
        "## Lab 1: Hello World"
      ]
    },
    {
      "cell_type": "markdown",
      "metadata": {
        "id": "vdwTwSwcmmS1"
      },
      "source": [
        "In this course, you will be learning to analyze data using the open source programming language, python.  Our focus will not be on programming per se, however. You will learn just enough programming to do the required data analysis. Other courses in your academic program will focus specifically on python programming.\n",
        "\n",
        "**Why do we use python?**\n",
        "\n",
        "One word: collaboration. When working with a scripting language like python, in a notebook such as this one, every step in an analysis is perfectly transparent. If, to faciliatate analysis, I change the data in some way--perhaps I decide to remove rows with missing values, for example--every step I take is recorded in my script. This makes it easy for my collaborators to see exactly what I've done, and correct it (if necessary) or improve it. Contrast this to Microsoft Excel, which is widely used for analyzing data. Changes to the data in an Excel spreadhseet typically go unrecorded. Using a scripting language is therefore a huge step forward in conducting  data analysis in organizations because it *supports effective collaboration.* Note that other scripting languages such as R, which is similar to Python, also work well for data analysis for the same reason.\n",
        "\n",
        "**What is a script?** \n",
        "\n",
        "A script is the set of steps or procedures that constitute a data analysis project, from start to finish.  With the script in hand, another analyst could exactly reproduce my results. In this course we will be working from scripts that have been saved in Google Collab notebooks.\n",
        "\n",
        "**What is a notebook?**\n",
        "\n",
        "A notebook combines code and text generated in the course of an analysis. Data analysis occurs within the code chunks, while the text preceeding or following contextualize and interpret the analytic results. \n",
        "\n",
        "**Writing code** \n",
        "\n",
        "Here is an example of a code chunk.\n",
        "\n"
      ]
    },
    {
      "cell_type": "code",
      "metadata": {
        "colab": {
          "base_uri": "https://localhost:8080/"
        },
        "id": "MoPdMxC5wm94",
        "outputId": "ed03334f-7bf8-49d3-891a-8af7061190ba"
      },
      "source": [
        "print(\"hello world\")"
      ],
      "execution_count": 2,
      "outputs": [
        {
          "output_type": "stream",
          "text": [
            "hello world\n"
          ],
          "name": "stdout"
        }
      ]
    },
    {
      "cell_type": "markdown",
      "metadata": {
        "id": "VKlbsqvLwukZ"
      },
      "source": [
        "`print()` is a python function that will print text. If you wave your cursor over the lefthand corner of the code chunk you will see an arrow.  Click that arrow to run the the code in the chunk. In this way, readers can essentially participate in the analysis, going from chunk to chunk. Obviously, printing out the phrase, \"hello world,\" does not count as data analysis but it gives you a sense of how a notebook can be used to support collaboration. Here is a more substantive example."
      ]
    },
    {
      "cell_type": "code",
      "metadata": {
        "colab": {
          "base_uri": "https://localhost:8080/"
        },
        "id": "_QAWOWZjxred",
        "outputId": "c68b481d-ca66-4013-b125-5bf360f1c0c6"
      },
      "source": [
        "x = 5\n",
        "y = 7\n",
        "x + y"
      ],
      "execution_count": 6,
      "outputs": [
        {
          "output_type": "execute_result",
          "data": {
            "text/plain": [
              "12"
            ]
          },
          "metadata": {
            "tags": []
          },
          "execution_count": 6
        }
      ]
    },
    {
      "cell_type": "markdown",
      "metadata": {
        "id": "X689O-pQxzCI"
      },
      "source": [
        "`x` and `y` are examples of objects in python. I have assigned values to them, which then allows me to do calculations with the objects. Note that the values of objects persist from the chunks to the chunks below.  "
      ]
    },
    {
      "cell_type": "code",
      "metadata": {
        "colab": {
          "base_uri": "https://localhost:8080/"
        },
        "id": "Mqf_u-OYyVmD",
        "outputId": "469b45bd-e685-452e-ae96-dbaa5d0aec29"
      },
      "source": [
        "x"
      ],
      "execution_count": 7,
      "outputs": [
        {
          "output_type": "execute_result",
          "data": {
            "text/plain": [
              "7"
            ]
          },
          "metadata": {
            "tags": []
          },
          "execution_count": 7
        }
      ]
    },
    {
      "cell_type": "code",
      "metadata": {
        "id": "qa9Xi3UL3SAW"
      },
      "source": [
        "y"
      ],
      "execution_count": null,
      "outputs": []
    },
    {
      "cell_type": "markdown",
      "metadata": {
        "id": "_i4PHuDMyuSd"
      },
      "source": [
        "The simplest way to use python is as a calculator."
      ]
    },
    {
      "cell_type": "code",
      "metadata": {
        "colab": {
          "base_uri": "https://localhost:8080/"
        },
        "id": "pLTeo38wy1Fs",
        "outputId": "0ea74e5e-e48a-4b22-9178-781c5249d004"
      },
      "source": [
        "5 * 7 # or, the same thing:"
      ],
      "execution_count": 8,
      "outputs": [
        {
          "output_type": "execute_result",
          "data": {
            "text/plain": [
              "35"
            ]
          },
          "metadata": {
            "tags": []
          },
          "execution_count": 8
        }
      ]
    },
    {
      "cell_type": "code",
      "metadata": {
        "colab": {
          "base_uri": "https://localhost:8080/"
        },
        "id": "7gvbLnk60Gp0",
        "outputId": "5c88932c-a0dc-41a7-85a3-28f1117f1b03"
      },
      "source": [
        "x * y"
      ],
      "execution_count": 9,
      "outputs": [
        {
          "output_type": "execute_result",
          "data": {
            "text/plain": [
              "35"
            ]
          },
          "metadata": {
            "tags": []
          },
          "execution_count": 9
        }
      ]
    },
    {
      "cell_type": "markdown",
      "metadata": {
        "id": "AHmnr1AL0JcD"
      },
      "source": [
        "Using a hashtag in a chunk, `#`, is known as \"commenting out\" text that should not be evaluated.  Any text or code following the `#` Will not be evaluated by python. It is useful to add comments to code chunks, particularly when things start getting complicated, to provide interpretive guidance for readers."
      ]
    },
    {
      "cell_type": "markdown",
      "metadata": {
        "id": "C6i3H6Io0zI4"
      },
      "source": [
        ""
      ]
    }
  ]
}