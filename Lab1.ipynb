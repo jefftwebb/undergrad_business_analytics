{
  "nbformat": 4,
  "nbformat_minor": 0,
  "metadata": {
    "colab": {
      "name": "Lab1.ipynb",
      "provenance": [],
      "collapsed_sections": [],
      "authorship_tag": "ABX9TyP2OHz7mBw9hBHo2Ucnepst",
      "include_colab_link": true
    },
    "kernelspec": {
      "name": "python3",
      "display_name": "Python 3"
    },
    "language_info": {
      "name": "python"
    }
  },
  "cells": [
    {
      "cell_type": "markdown",
      "metadata": {
        "id": "view-in-github",
        "colab_type": "text"
      },
      "source": [
        "<a href=\"https://colab.research.google.com/github/jefftwebb/undergrad_business_analytics/blob/main/Lab1.ipynb\" target=\"_parent\"><img src=\"https://colab.research.google.com/assets/colab-badge.svg\" alt=\"Open In Colab\"/></a>"
      ]
    },
    {
      "cell_type": "markdown",
      "metadata": {
        "id": "ViUolqYlmZEO"
      },
      "source": [
        "## Lab 1: Hello World"
      ]
    },
    {
      "cell_type": "markdown",
      "metadata": {
        "id": "vdwTwSwcmmS1"
      },
      "source": [
        "In this course, you will be learning to analyze data using the python open source programming language.  Our focus, however, will not be on programming per se, but on data analysis. You will learn just enough programming to do data analysis. While this will give you a solid introduction to python, other courses in your academic program will focus specifically on python programming.\n",
        "\n",
        "### Why use python for data analysis?\n",
        "\n",
        "For our purposes there is one main reason: collaboration. Using a programming language like python to prepare and analyze data makes every step in the process perfectly transparent to others. For example, suppose I decide to remove rows with missing values (NAs) from a dataset.  That filtering step will be documented in my code. This makes it easy for my collaborators to see exactly what I've done and, if necessary, to correct my work or improve it. Contrast this to how Microsoft Excel is often used.  Usually changes to the data in a spreadhseet typically go unrecorded and are therefore not available for easy review. Using a programming language for data analysis is thus a huge step forward business analytics because it *supports effective collaboration.* Note that other programming languages such as R, which is similar to Python, also work well for data analysis for the same reason.\n",
        "\n",
        "\n",
        "### What is a Google Collab notebook?\n",
        "\n",
        "A Collab notebook (such as this one) combines code and text generated in the course of an analysis. Data analysis occurs within the python code chunks, while the text preceeding or following contextualize and interpret the analytic results. Collab notebooks are simple to share and use because they do not require specialized software and run directly in your browser. \n",
        "\n",
        "Collab notebooks have a document type of .ipynb, which stands for \"ipython notebook.\" These notebooks are easily saved in your Google Drive (make sure that you have a Google account with Drive enabled) either in notebook format (.ipynb) or as PDF. In this course you will be handing in labs as PDF documents. To compile your notebook to PDF follow these steps: File >> Print >> select \"Save as PDF\" under Destination in the upper right of the dialogue box >> click Save.\n",
        "\n",
        "### Writing code in a notebook\n",
        "\n",
        "Here is an example of a code chunk.\n",
        "\n"
      ]
    },
    {
      "cell_type": "code",
      "metadata": {
        "id": "MoPdMxC5wm94"
      },
      "source": [
        "print(\"hello world\")"
      ],
      "execution_count": null,
      "outputs": []
    },
    {
      "cell_type": "markdown",
      "metadata": {
        "id": "VKlbsqvLwukZ"
      },
      "source": [
        "What is happening here? If you wave your cursor over the lefthand corner of the code chunk you will see an arrow.  Click that arrow to run the the code in the chunk. In this case the python function, `print()`, prints the words \"hello world\" included within the parentheses. In this way, readers can essentially participate in the analysis, going from chunk to chunk. Obviously, printing out \"hello world\" does not count as data analysis, but it should gives you a sense of how a notebook can be used to support collaboration. For example, you could easily change the text in that line of code.  \n",
        "\n",
        "Here is a more substantive example."
      ]
    },
    {
      "cell_type": "code",
      "metadata": {
        "id": "_QAWOWZjxred"
      },
      "source": [
        "x = 5\n",
        "y = 7\n",
        "x + y"
      ],
      "execution_count": null,
      "outputs": []
    },
    {
      "cell_type": "markdown",
      "metadata": {
        "id": "X689O-pQxzCI"
      },
      "source": [
        "Here `x` and `y` are examples of objects in python. I have assigned values to them, which then allows me to do calculations with the objects. Note that the values of objects persist from the chunks above to the chunks below.  "
      ]
    },
    {
      "cell_type": "code",
      "metadata": {
        "id": "Mqf_u-OYyVmD"
      },
      "source": [
        "x"
      ],
      "execution_count": null,
      "outputs": []
    },
    {
      "cell_type": "code",
      "metadata": {
        "id": "qa9Xi3UL3SAW"
      },
      "source": [
        "y"
      ],
      "execution_count": null,
      "outputs": []
    },
    {
      "cell_type": "markdown",
      "metadata": {
        "id": "_i4PHuDMyuSd"
      },
      "source": [
        "The simplest way to use python is as a calculator."
      ]
    },
    {
      "cell_type": "code",
      "metadata": {
        "id": "pLTeo38wy1Fs"
      },
      "source": [
        "5 * 7 # or, the same thing:"
      ],
      "execution_count": null,
      "outputs": []
    },
    {
      "cell_type": "code",
      "metadata": {
        "id": "7gvbLnk60Gp0"
      },
      "source": [
        "x * y"
      ],
      "execution_count": null,
      "outputs": []
    },
    {
      "cell_type": "markdown",
      "metadata": {
        "id": "AHmnr1AL0JcD"
      },
      "source": [
        "Using a hashtag in a chunk, `#`, is known as \"commenting out\" text that should not be evaluated.  Any text or code following the `#` Will not be evaluated by python. It is useful to add comments to code chunks, particularly when things start getting complicated, to provide interpretive guidance for readers, as well as for yourself, when you come back to an analysis after a break."
      ]
    },
    {
      "cell_type": "markdown",
      "metadata": {
        "id": "C6i3H6Io0zI4"
      },
      "source": [
        "### Assignment\n",
        "\n",
        "Here are some tasks to give you practice using a Collab python notebook.  \n",
        "\n",
        "1. Write python to produce the text \"Submitted by: your name\" where \"your name\" has been replaced with your name.\n",
        "2. Write code to calculate the number of minutes in a day (24 hours).\n",
        "3. Using the values of x and y defined above divide x by y. (In python, division is performed with the `/` operator.)\n",
        "4. Create a new variable, z, defined as x divided by y, and show that z is the same as the value you calculated in the previous question.\n",
        "5. Some functions in python are titled exactly as you would expect, such as `mean()`.  Use the `mean()`  to compute the average of a number series. Syntax is straightforward: simply include the series object within the parentheses. There is a wrinkle here, however.  Python consists of various libraries that have been created to focus on certain kinds of operations.  We will often need to import a library in order to use a function that is included in it. In this case we will import the `statistics` library. In Python when using a function within a library we must identify both library and the function. In this case the code will be: `statistics.mean()`.\n",
        "\n",
        "For each question **include a comment within the code chunk that explains what you are doing**.\n",
        "\n",
        "Code chunks have been provided for you below. Make sure to run each chunk (click the arrow in the far left of the chunk) so that your code has been evaluated and the results are showing before you convert it to PDF.\n",
        "\n",
        "Save your notebook to your Google Drive (following the instructions above) and then convert it to PDF.  Submit the PDF version to Canvas for the lab assignment."
      ]
    },
    {
      "cell_type": "markdown",
      "metadata": {
        "id": "ZkL3So4HFyQs"
      },
      "source": [
        "Question 1:  Submitted by ..."
      ]
    },
    {
      "cell_type": "code",
      "metadata": {
        "id": "_6uAiU7CAjtP"
      },
      "source": [
        ""
      ],
      "execution_count": null,
      "outputs": []
    },
    {
      "cell_type": "markdown",
      "metadata": {
        "id": "jLBAbeZiI7Cv"
      },
      "source": [
        "Question 2: Calculate the number of minutes in a day"
      ]
    },
    {
      "cell_type": "code",
      "metadata": {
        "id": "EgK96F1LI6j4"
      },
      "source": [
        ""
      ],
      "execution_count": null,
      "outputs": []
    },
    {
      "cell_type": "markdown",
      "metadata": {
        "id": "UyhpobnGI9jQ"
      },
      "source": [
        "Question 3: divide x by y"
      ]
    },
    {
      "cell_type": "code",
      "metadata": {
        "id": "dPTMSqj2JAG4"
      },
      "source": [
        "x = 5\n",
        "y = 7\n",
        "\n",
        "# What is x divided by y?\n",
        "\n"
      ],
      "execution_count": null,
      "outputs": []
    },
    {
      "cell_type": "markdown",
      "metadata": {
        "id": "RI28oArLJA6I"
      },
      "source": [
        "Question 4: create z"
      ]
    },
    {
      "cell_type": "code",
      "metadata": {
        "id": "5T9mRg3uJBQZ"
      },
      "source": [
        ""
      ],
      "execution_count": null,
      "outputs": []
    },
    {
      "cell_type": "markdown",
      "metadata": {
        "id": "H8Y6T_x1JHNi"
      },
      "source": [
        "Question 5: Calculate a mean"
      ]
    },
    {
      "cell_type": "code",
      "metadata": {
        "id": "rVjW8VCHJCHA"
      },
      "source": [
        "import statistics # Import the python module that includes the mean() function\n",
        "\n",
        "values = [1, 2, 3, 4, 5, 6] # Define the series \n",
        "\n",
        "# Write code below to calculate the mean of values using the \n",
        "# library.function() syntax explained above.\n",
        "\n"
      ],
      "execution_count": null,
      "outputs": []
    }
  ]
}